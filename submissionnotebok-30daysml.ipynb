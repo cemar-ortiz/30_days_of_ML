{
 "cells": [
  {
   "cell_type": "markdown",
   "id": "d3b62607",
   "metadata": {
    "papermill": {
     "duration": 0.023088,
     "end_time": "2021-08-25T05:02:11.137995",
     "exception": false,
     "start_time": "2021-08-25T05:02:11.114907",
     "status": "completed"
    },
    "tags": []
   },
   "source": [
    "# 30 days of ML @ Kaggle"
   ]
  },
  {
   "cell_type": "markdown",
   "id": "5f711dcc",
   "metadata": {
    "papermill": {
     "duration": 0.02218,
     "end_time": "2021-08-25T05:02:11.181731",
     "exception": false,
     "start_time": "2021-08-25T05:02:11.159551",
     "status": "completed"
    },
    "tags": []
   },
   "source": [
    "## About the data"
   ]
  },
  {
   "cell_type": "markdown",
   "id": "917e2d9e",
   "metadata": {
    "papermill": {
     "duration": 0.021944,
     "end_time": "2021-08-25T05:02:11.225176",
     "exception": false,
     "start_time": "2021-08-25T05:02:11.203232",
     "status": "completed"
    },
    "tags": []
   },
   "source": [
    "The dataset is used for this competition is synthetic (and generated using a CTGAN), but based on a real dataset. The original dataset deals with predicting the amount of an insurance claim. Although the features are anonymized, they have properties relating to real-world features."
   ]
  },
  {
   "cell_type": "markdown",
   "id": "c4c74a0d",
   "metadata": {
    "papermill": {
     "duration": 0.021336,
     "end_time": "2021-08-25T05:02:11.268076",
     "exception": false,
     "start_time": "2021-08-25T05:02:11.246740",
     "status": "completed"
    },
    "tags": []
   },
   "source": [
    "For this competition, you will be predicting a continuous target based on a number of feature columns given in the data. All of the feature columns, cat0 - cat9 are categorical, and the feature columns cont0 - cont13 are continuous."
   ]
  },
  {
   "cell_type": "markdown",
   "id": "b818b60a",
   "metadata": {
    "papermill": {
     "duration": 0.021064,
     "end_time": "2021-08-25T05:02:11.310382",
     "exception": false,
     "start_time": "2021-08-25T05:02:11.289318",
     "status": "completed"
    },
    "tags": []
   },
   "source": [
    "Files:\n",
    "- train.csv - the training data with the target column\n",
    "- test.csv - the test set; you will be predicting the target for each row in this file\n",
    "- sample_submission.csv - a sample submission file in the correct format\n"
   ]
  },
  {
   "cell_type": "markdown",
   "id": "668708f6",
   "metadata": {
    "papermill": {
     "duration": 0.022133,
     "end_time": "2021-08-25T05:02:11.354039",
     "exception": false,
     "start_time": "2021-08-25T05:02:11.331906",
     "status": "completed"
    },
    "tags": []
   },
   "source": [
    "## Inital setup"
   ]
  },
  {
   "cell_type": "code",
   "execution_count": 1,
   "id": "b0c74859",
   "metadata": {
    "execution": {
     "iopub.execute_input": "2021-08-25T05:02:11.409097Z",
     "iopub.status.busy": "2021-08-25T05:02:11.408561Z",
     "iopub.status.idle": "2021-08-25T05:02:15.290140Z",
     "shell.execute_reply": "2021-08-25T05:02:15.291263Z",
     "shell.execute_reply.started": "2021-08-25T04:50:48.590343Z"
    },
    "papermill": {
     "duration": 3.916009,
     "end_time": "2021-08-25T05:02:15.291630",
     "exception": false,
     "start_time": "2021-08-25T05:02:11.375621",
     "status": "completed"
    },
    "tags": []
   },
   "outputs": [],
   "source": [
    "import pandas as pd\n",
    "\n",
    "train_path = '../input/30daysofml/train.csv/train.csv'\n",
    "test_path = '../input/30daysofml/test.csv/test.csv'\n",
    "\n",
    "# All features + target\n",
    "raw_train = pd.read_csv(train_path)\n",
    "# All features, no target\n",
    "raw_test = pd.read_csv(test_path)"
   ]
  },
  {
   "cell_type": "markdown",
   "id": "e4ca6131",
   "metadata": {
    "papermill": {
     "duration": 0.038099,
     "end_time": "2021-08-25T05:02:15.366245",
     "exception": false,
     "start_time": "2021-08-25T05:02:15.328146",
     "status": "completed"
    },
    "tags": []
   },
   "source": [
    "## Preprocessing "
   ]
  },
  {
   "cell_type": "code",
   "execution_count": 2,
   "id": "b355badc",
   "metadata": {
    "execution": {
     "iopub.execute_input": "2021-08-25T05:02:15.424187Z",
     "iopub.status.busy": "2021-08-25T05:02:15.423103Z",
     "iopub.status.idle": "2021-08-25T05:02:15.580783Z",
     "shell.execute_reply": "2021-08-25T05:02:15.580309Z",
     "shell.execute_reply.started": "2021-08-25T04:50:54.853446Z"
    },
    "papermill": {
     "duration": 0.193021,
     "end_time": "2021-08-25T05:02:15.580911",
     "exception": false,
     "start_time": "2021-08-25T05:02:15.387890",
     "status": "completed"
    },
    "tags": []
   },
   "outputs": [],
   "source": [
    "# Remove rows with missing target, separate id and target from predictors\n",
    "X_full = raw_train.dropna(axis=0, subset=['target'], inplace=False).copy()\n",
    "y = X_full.target\n",
    "X_full.drop(['id','target'], axis=1, inplace=True)"
   ]
  },
  {
   "cell_type": "code",
   "execution_count": 3,
   "id": "77863770",
   "metadata": {
    "execution": {
     "iopub.execute_input": "2021-08-25T05:02:15.629595Z",
     "iopub.status.busy": "2021-08-25T05:02:15.628872Z",
     "iopub.status.idle": "2021-08-25T05:02:16.503524Z",
     "shell.execute_reply": "2021-08-25T05:02:16.502975Z",
     "shell.execute_reply.started": "2021-08-25T04:50:57.371431Z"
    },
    "papermill": {
     "duration": 0.901061,
     "end_time": "2021-08-25T05:02:16.503665",
     "exception": false,
     "start_time": "2021-08-25T05:02:15.602604",
     "status": "completed"
    },
    "tags": []
   },
   "outputs": [],
   "source": [
    "from sklearn.model_selection import train_test_split\n",
    "\n",
    "# Break off validation set from training data\n",
    "X_train_full, X_valid_full, y_train, y_valid = train_test_split(X_full, y, \n",
    "                                                                train_size=0.75,\n",
    "                                                                random_state=0)"
   ]
  },
  {
   "cell_type": "code",
   "execution_count": 4,
   "id": "1f4711b6",
   "metadata": {
    "execution": {
     "iopub.execute_input": "2021-08-25T05:02:16.571978Z",
     "iopub.status.busy": "2021-08-25T05:02:16.571096Z",
     "iopub.status.idle": "2021-08-25T05:02:17.137078Z",
     "shell.execute_reply": "2021-08-25T05:02:17.136612Z",
     "shell.execute_reply.started": "2021-08-25T04:50:59.951499Z"
    },
    "papermill": {
     "duration": 0.61132,
     "end_time": "2021-08-25T05:02:17.137205",
     "exception": false,
     "start_time": "2021-08-25T05:02:16.525885",
     "status": "completed"
    },
    "tags": []
   },
   "outputs": [],
   "source": [
    "# \"Cardinality\" means the number of unique values in a column\n",
    "# Select categorical columns with relatively low cardinality (convenient but arbitrary)\n",
    "categorical_cols = [cname for cname in X_train_full.columns if\n",
    "                    X_train_full[cname].nunique() < 16 and \n",
    "                    X_train_full[cname].dtype == \"object\"]"
   ]
  },
  {
   "cell_type": "code",
   "execution_count": 5,
   "id": "35809a13",
   "metadata": {
    "execution": {
     "iopub.execute_input": "2021-08-25T05:02:17.186178Z",
     "iopub.status.busy": "2021-08-25T05:02:17.185685Z",
     "iopub.status.idle": "2021-08-25T05:02:17.189477Z",
     "shell.execute_reply": "2021-08-25T05:02:17.189062Z",
     "shell.execute_reply.started": "2021-08-25T04:51:02.287506Z"
    },
    "papermill": {
     "duration": 0.03005,
     "end_time": "2021-08-25T05:02:17.189588",
     "exception": false,
     "start_time": "2021-08-25T05:02:17.159538",
     "status": "completed"
    },
    "tags": []
   },
   "outputs": [],
   "source": [
    "# Select numerical columns\n",
    "numerical_cols = [cname for cname in X_train_full.columns if \n",
    "                X_train_full[cname].dtype in ['int64', 'float64']]"
   ]
  },
  {
   "cell_type": "code",
   "execution_count": 6,
   "id": "829f0695",
   "metadata": {
    "execution": {
     "iopub.execute_input": "2021-08-25T05:02:17.237987Z",
     "iopub.status.busy": "2021-08-25T05:02:17.237227Z",
     "iopub.status.idle": "2021-08-25T05:02:17.360407Z",
     "shell.execute_reply": "2021-08-25T05:02:17.359931Z",
     "shell.execute_reply.started": "2021-08-25T04:51:04.844010Z"
    },
    "papermill": {
     "duration": 0.149518,
     "end_time": "2021-08-25T05:02:17.360531",
     "exception": false,
     "start_time": "2021-08-25T05:02:17.211013",
     "status": "completed"
    },
    "tags": []
   },
   "outputs": [],
   "source": [
    "# Keep selected columns only\n",
    "my_cols = categorical_cols + numerical_cols\n",
    "X_train = X_train_full[my_cols].copy()\n",
    "X_valid = X_valid_full[my_cols].copy()\n",
    "X_test = raw_test[my_cols].copy()"
   ]
  },
  {
   "cell_type": "markdown",
   "id": "c90a44fc",
   "metadata": {
    "papermill": {
     "duration": 0.021891,
     "end_time": "2021-08-25T05:02:17.404540",
     "exception": false,
     "start_time": "2021-08-25T05:02:17.382649",
     "status": "completed"
    },
    "tags": []
   },
   "source": [
    "## EDA for Feature Engineering"
   ]
  },
  {
   "cell_type": "code",
   "execution_count": 7,
   "id": "54ef5cba",
   "metadata": {
    "execution": {
     "iopub.execute_input": "2021-08-25T05:02:17.452486Z",
     "iopub.status.busy": "2021-08-25T05:02:17.451794Z",
     "iopub.status.idle": "2021-08-25T05:02:17.578033Z",
     "shell.execute_reply": "2021-08-25T05:02:17.577583Z",
     "shell.execute_reply.started": "2021-08-25T04:51:07.187087Z"
    },
    "papermill": {
     "duration": 0.151335,
     "end_time": "2021-08-25T05:02:17.578169",
     "exception": false,
     "start_time": "2021-08-25T05:02:17.426834",
     "status": "completed"
    },
    "tags": []
   },
   "outputs": [],
   "source": [
    "import matplotlib.pyplot as plt\n",
    "import seaborn as sns"
   ]
  },
  {
   "cell_type": "code",
   "execution_count": 8,
   "id": "89cd932d",
   "metadata": {
    "execution": {
     "iopub.execute_input": "2021-08-25T05:02:17.627668Z",
     "iopub.status.busy": "2021-08-25T05:02:17.626524Z",
     "iopub.status.idle": "2021-08-25T05:02:17.843108Z",
     "shell.execute_reply": "2021-08-25T05:02:17.843569Z",
     "shell.execute_reply.started": "2021-08-25T04:51:09.603531Z"
    },
    "papermill": {
     "duration": 0.243733,
     "end_time": "2021-08-25T05:02:17.843725",
     "exception": false,
     "start_time": "2021-08-25T05:02:17.599992",
     "status": "completed"
    },
    "tags": []
   },
   "outputs": [
    {
     "data": {
      "text/plain": [
       "[array(['B', 'A'], dtype=object),\n",
       " array(['B', 'A'], dtype=object),\n",
       " array(['B', 'A'], dtype=object),\n",
       " array(['C', 'A', 'D', 'B'], dtype=object),\n",
       " array(['B', 'C', 'A', 'D'], dtype=object),\n",
       " array(['B', 'D', 'C', 'A'], dtype=object),\n",
       " array(['A', 'B', 'C', 'H', 'D', 'I', 'G', 'E'], dtype=object),\n",
       " array(['E', 'F', 'D', 'B', 'G', 'C', 'A', 'I'], dtype=object),\n",
       " array(['C', 'A', 'G', 'E', 'F', 'D', 'B'], dtype=object),\n",
       " array(['N', 'O', 'F', 'K', 'M', 'I', 'G', 'H', 'L', 'B', 'A', 'J', 'D',\n",
       "        'C', 'E'], dtype=object)]"
      ]
     },
     "execution_count": 8,
     "metadata": {},
     "output_type": "execute_result"
    }
   ],
   "source": [
    "df = raw_train.copy()\n",
    "[df[col].unique() for col in categorical_cols]"
   ]
  },
  {
   "cell_type": "code",
   "execution_count": 9,
   "id": "d6f16f8c",
   "metadata": {
    "execution": {
     "iopub.execute_input": "2021-08-25T05:02:17.894384Z",
     "iopub.status.busy": "2021-08-25T05:02:17.893741Z",
     "iopub.status.idle": "2021-08-25T05:02:17.958929Z",
     "shell.execute_reply": "2021-08-25T05:02:17.958406Z",
     "shell.execute_reply.started": "2021-08-25T04:51:19.149332Z"
    },
    "papermill": {
     "duration": 0.092674,
     "end_time": "2021-08-25T05:02:17.959048",
     "exception": false,
     "start_time": "2021-08-25T05:02:17.866374",
     "status": "completed"
    },
    "tags": []
   },
   "outputs": [],
   "source": [
    "from sklearn.preprocessing import OneHotEncoder\n",
    "from sklearn.preprocessing import OrdinalEncoder\n",
    "from sklearn.linear_model import LinearRegression\n",
    "\n",
    "def is_ordinal(col):\n",
    "    # 1 pick a variable\n",
    "    variable = df[[col]]\n",
    "    # 2 transform it by ordinal encoder\n",
    "    OD = OrdinalEncoder()\n",
    "    OD_var = OD.fit_transform(variable)\n",
    "    # 3 run a linear regression of your variable's ordinal encoding against your target\n",
    "    target = df[['target']]\n",
    "    reg_OD = LinearRegression().fit(OD_var, target)\n",
    "    # 4 inspect the r2 coefficients \n",
    "    score_OD = reg_OD.score(OD_var, target)\n",
    "    print(f'{col} Ordinal r2 score: {score_OD}')\n",
    "    # 5 the coefficients far from zero (both in positive and negative) point out that an encoding is meaningful. \n",
    "    # AUX Print some plots\n",
    "    #plt.scatter(x=OD_var, y=target, color='blue', alpha=0.05)\n",
    "    #plt.title(f'{col}')\n",
    "    #plt.show()"
   ]
  },
  {
   "cell_type": "markdown",
   "id": "fce5b99b",
   "metadata": {
    "papermill": {
     "duration": 0.02326,
     "end_time": "2021-08-25T05:02:18.004826",
     "exception": false,
     "start_time": "2021-08-25T05:02:17.981566",
     "status": "completed"
    },
    "tags": []
   },
   "source": [
    "Just run once for EDA purposes"
   ]
  },
  {
   "cell_type": "code",
   "execution_count": 10,
   "id": "d32db3f0",
   "metadata": {
    "execution": {
     "iopub.execute_input": "2021-08-25T05:02:18.053351Z",
     "iopub.status.busy": "2021-08-25T05:02:18.052792Z",
     "iopub.status.idle": "2021-08-25T05:02:18.056888Z",
     "shell.execute_reply": "2021-08-25T05:02:18.056469Z",
     "shell.execute_reply.started": "2021-08-24T22:04:07.571279Z"
    },
    "papermill": {
     "duration": 0.029089,
     "end_time": "2021-08-25T05:02:18.057004",
     "exception": false,
     "start_time": "2021-08-25T05:02:18.027915",
     "status": "completed"
    },
    "tags": []
   },
   "outputs": [],
   "source": [
    "#for col in categorical_cols:\n",
    "    #is_ordinal(col)"
   ]
  },
  {
   "cell_type": "markdown",
   "id": "e551a60a",
   "metadata": {
    "papermill": {
     "duration": 0.021721,
     "end_time": "2021-08-25T05:02:18.100333",
     "exception": false,
     "start_time": "2021-08-25T05:02:18.078612",
     "status": "completed"
    },
    "tags": []
   },
   "source": [
    "Guided by intuition, after inspecting the results of the exploration above, I'll try separating some of the categorical cols into ordinal and nominal cols"
   ]
  },
  {
   "cell_type": "code",
   "execution_count": 11,
   "id": "93eb1164",
   "metadata": {
    "execution": {
     "iopub.execute_input": "2021-08-25T05:02:18.150110Z",
     "iopub.status.busy": "2021-08-25T05:02:18.148604Z",
     "iopub.status.idle": "2021-08-25T05:02:18.151187Z",
     "shell.execute_reply": "2021-08-25T05:02:18.151732Z",
     "shell.execute_reply.started": "2021-08-25T04:53:48.539893Z"
    },
    "papermill": {
     "duration": 0.029549,
     "end_time": "2021-08-25T05:02:18.151928",
     "exception": false,
     "start_time": "2021-08-25T05:02:18.122379",
     "status": "completed"
    },
    "tags": []
   },
   "outputs": [],
   "source": [
    "ordinal_cols = ['cat3', 'cat4', 'cat5', 'cat6', 'cat7', 'cat8']\n",
    "nominal_cols = ['cat0', 'cat1', 'cat2', 'cat9']"
   ]
  },
  {
   "cell_type": "code",
   "execution_count": 12,
   "id": "ac6bb652",
   "metadata": {
    "execution": {
     "iopub.execute_input": "2021-08-25T05:02:18.203156Z",
     "iopub.status.busy": "2021-08-25T05:02:18.201974Z",
     "iopub.status.idle": "2021-08-25T05:02:18.306305Z",
     "shell.execute_reply": "2021-08-25T05:02:18.305833Z",
     "shell.execute_reply.started": "2021-08-25T04:53:52.185835Z"
    },
    "papermill": {
     "duration": 0.132267,
     "end_time": "2021-08-25T05:02:18.306435",
     "exception": false,
     "start_time": "2021-08-25T05:02:18.174168",
     "status": "completed"
    },
    "tags": []
   },
   "outputs": [],
   "source": [
    "# Keep selected columns only\n",
    "my_cols = ordinal_cols + nominal_cols + numerical_cols\n",
    "X_train = X_train_full[my_cols].copy()\n",
    "X_valid = X_valid_full[my_cols].copy()\n",
    "X_test = raw_test[my_cols].copy()"
   ]
  },
  {
   "cell_type": "markdown",
   "id": "c77ff93f",
   "metadata": {
    "papermill": {
     "duration": 0.021505,
     "end_time": "2021-08-25T05:02:18.350163",
     "exception": false,
     "start_time": "2021-08-25T05:02:18.328658",
     "status": "completed"
    },
    "tags": []
   },
   "source": [
    "## Hyper parameter tuning of the model"
   ]
  },
  {
   "cell_type": "code",
   "execution_count": 13,
   "id": "d48c073d",
   "metadata": {
    "execution": {
     "iopub.execute_input": "2021-08-25T05:02:18.398343Z",
     "iopub.status.busy": "2021-08-25T05:02:18.397670Z",
     "iopub.status.idle": "2021-08-25T05:02:18.476463Z",
     "shell.execute_reply": "2021-08-25T05:02:18.475927Z",
     "shell.execute_reply.started": "2021-08-25T04:53:56.923219Z"
    },
    "papermill": {
     "duration": 0.104676,
     "end_time": "2021-08-25T05:02:18.476609",
     "exception": false,
     "start_time": "2021-08-25T05:02:18.371933",
     "status": "completed"
    },
    "tags": []
   },
   "outputs": [],
   "source": [
    "#Importing Packages\n",
    "from xgboost import XGBRegressor\n",
    "from sklearn.model_selection import GridSearchCV\n",
    "\n",
    "from sklearn.metrics import mean_squared_error"
   ]
  },
  {
   "cell_type": "code",
   "execution_count": 14,
   "id": "ab2562a3",
   "metadata": {
    "execution": {
     "iopub.execute_input": "2021-08-25T05:02:18.529049Z",
     "iopub.status.busy": "2021-08-25T05:02:18.528450Z",
     "iopub.status.idle": "2021-08-25T05:02:18.531796Z",
     "shell.execute_reply": "2021-08-25T05:02:18.531343Z",
     "shell.execute_reply.started": "2021-08-25T04:54:03.476358Z"
    },
    "papermill": {
     "duration": 0.031947,
     "end_time": "2021-08-25T05:02:18.531913",
     "exception": false,
     "start_time": "2021-08-25T05:02:18.499966",
     "status": "completed"
    },
    "tags": []
   },
   "outputs": [],
   "source": [
    "#XGBoost hyper-parameter tuning\n",
    "def hyperParameterTuning(X_train, y_train):\n",
    "    param_tuning = {\n",
    "        'learning_rate': [0.02,0.05, 0.1],\n",
    "        'max_depth': [3, 5, 7, 10],\n",
    "        'min_child_weight': [1, 3, 5],\n",
    "        'subsample': [0.5, 0.7],\n",
    "        'colsample_bytree': [0.5, 0.7],\n",
    "        'n_estimators' : [100, 200, 500],\n",
    "        'objective': ['reg:squarederror'],\n",
    "        'tree_method': ['gpu_hist']\n",
    "    }\n",
    "\n",
    "    xgb_model = XGBRegressor()\n",
    "\n",
    "    gsearch = GridSearchCV(estimator = xgb_model,\n",
    "                           param_grid = param_tuning,                        \n",
    "                           #scoring = 'neg_mean_squared_error',  #MSE\n",
    "                           cv = 5,\n",
    "                           n_jobs = -1,\n",
    "                           verbose = 1)\n",
    "\n",
    "    gsearch.fit(X_train,y_train)\n",
    "\n",
    "    return gsearch.best_params_"
   ]
  },
  {
   "cell_type": "code",
   "execution_count": 15,
   "id": "b88f93a5",
   "metadata": {
    "execution": {
     "iopub.execute_input": "2021-08-25T05:02:18.581532Z",
     "iopub.status.busy": "2021-08-25T05:02:18.580776Z",
     "iopub.status.idle": "2021-08-25T05:02:18.640423Z",
     "shell.execute_reply": "2021-08-25T05:02:18.639922Z",
     "shell.execute_reply.started": "2021-08-25T04:54:08.438148Z"
    },
    "papermill": {
     "duration": 0.086694,
     "end_time": "2021-08-25T05:02:18.640565",
     "exception": false,
     "start_time": "2021-08-25T05:02:18.553871",
     "status": "completed"
    },
    "tags": []
   },
   "outputs": [],
   "source": [
    "from sklearn.compose import ColumnTransformer\n",
    "from sklearn.pipeline import Pipeline\n",
    "from sklearn.impute import SimpleImputer\n",
    "from sklearn.preprocessing import OneHotEncoder\n",
    "from sklearn.preprocessing import OrdinalEncoder"
   ]
  },
  {
   "cell_type": "code",
   "execution_count": 16,
   "id": "629e835f",
   "metadata": {
    "execution": {
     "iopub.execute_input": "2021-08-25T05:02:18.691789Z",
     "iopub.status.busy": "2021-08-25T05:02:18.691043Z",
     "iopub.status.idle": "2021-08-25T05:02:18.694312Z",
     "shell.execute_reply": "2021-08-25T05:02:18.694729Z",
     "shell.execute_reply.started": "2021-08-25T04:54:12.603169Z"
    },
    "papermill": {
     "duration": 0.03198,
     "end_time": "2021-08-25T05:02:18.694890",
     "exception": false,
     "start_time": "2021-08-25T05:02:18.662910",
     "status": "completed"
    },
    "tags": []
   },
   "outputs": [],
   "source": [
    "# Preprocessing for numerical data\n",
    "numerical_transformer = SimpleImputer(strategy='median')\n",
    "\n",
    "# Preprocessing for ordinal data\n",
    "ordinal_transformer = Pipeline(steps=[\n",
    "    ('imputer', SimpleImputer(strategy='constant')),\n",
    "    ('onehot', OrdinalEncoder())\n",
    "])\n",
    "\n",
    "# Preprocessing for nominal data\n",
    "nominal_transformer = Pipeline(steps=[\n",
    "    ('imputer', SimpleImputer(strategy='constant')),\n",
    "    ('onehot', OneHotEncoder(handle_unknown='ignore'))\n",
    "])\n",
    "\n",
    "# Bundle preprocessing for numerical and categorical data\n",
    "preprocessor = ColumnTransformer(\n",
    "    transformers=[\n",
    "        ('num', numerical_transformer, numerical_cols),\n",
    "        ('ord', ordinal_transformer, ordinal_cols),\n",
    "        ('nom', nominal_transformer, nominal_cols)\n",
    "    ])"
   ]
  },
  {
   "cell_type": "code",
   "execution_count": 17,
   "id": "3f447869",
   "metadata": {
    "execution": {
     "iopub.execute_input": "2021-08-25T05:02:18.743862Z",
     "iopub.status.busy": "2021-08-25T05:02:18.742914Z",
     "iopub.status.idle": "2021-08-25T05:02:18.745177Z",
     "shell.execute_reply": "2021-08-25T05:02:18.745644Z",
     "shell.execute_reply.started": "2021-08-25T00:55:38.811725Z"
    },
    "papermill": {
     "duration": 0.028734,
     "end_time": "2021-08-25T05:02:18.745798",
     "exception": false,
     "start_time": "2021-08-25T05:02:18.717064",
     "status": "completed"
    },
    "tags": []
   },
   "outputs": [],
   "source": [
    "#Run only in the first run of the kernel.\n",
    "#X_train_trans = preprocessor.fit_transform(X_train)\n",
    "#hyperParameterTuning(X_train_trans, y_train)"
   ]
  },
  {
   "cell_type": "markdown",
   "id": "63163d9a",
   "metadata": {
    "papermill": {
     "duration": 0.021918,
     "end_time": "2021-08-25T05:02:18.790026",
     "exception": false,
     "start_time": "2021-08-25T05:02:18.768108",
     "status": "completed"
    },
    "tags": []
   },
   "source": [
    "## Best params output"
   ]
  },
  {
   "cell_type": "markdown",
   "id": "c73078f4",
   "metadata": {
    "papermill": {
     "duration": 0.022111,
     "end_time": "2021-08-25T05:02:18.834381",
     "exception": false,
     "start_time": "2021-08-25T05:02:18.812270",
     "status": "completed"
    },
    "tags": []
   },
   "source": [
    "{'colsample_bytree': 0.5,\n",
    " 'learning_rate': 0.1,\n",
    " 'max_depth': 5,\n",
    " 'min_child_weight': 3,\n",
    " 'n_estimators': 500,\n",
    " 'objective': 'reg:squarederror',\n",
    " 'subsample': 0.7,\n",
    " 'tree_method': 'gpu_hist'}"
   ]
  },
  {
   "cell_type": "markdown",
   "id": "698f3cf7",
   "metadata": {
    "papermill": {
     "duration": 0.021629,
     "end_time": "2021-08-25T05:02:18.878262",
     "exception": false,
     "start_time": "2021-08-25T05:02:18.856633",
     "status": "completed"
    },
    "tags": []
   },
   "source": [
    "## Pipeline building"
   ]
  },
  {
   "cell_type": "code",
   "execution_count": 18,
   "id": "162e1bac",
   "metadata": {
    "execution": {
     "iopub.execute_input": "2021-08-25T05:02:18.933752Z",
     "iopub.status.busy": "2021-08-25T05:02:18.932991Z",
     "iopub.status.idle": "2021-08-25T05:02:29.901437Z",
     "shell.execute_reply": "2021-08-25T05:02:29.900958Z",
     "shell.execute_reply.started": "2021-08-25T05:00:03.934473Z"
    },
    "papermill": {
     "duration": 11.001469,
     "end_time": "2021-08-25T05:02:29.901572",
     "exception": false,
     "start_time": "2021-08-25T05:02:18.900103",
     "status": "completed"
    },
    "tags": []
   },
   "outputs": [
    {
     "name": "stdout",
     "output_type": "stream",
     "text": [
      "RMSE: 0.7223566533464848\n"
     ]
    }
   ],
   "source": [
    "from sklearn.compose import ColumnTransformer\n",
    "from sklearn.pipeline import Pipeline\n",
    "from sklearn.impute import SimpleImputer\n",
    "from sklearn.preprocessing import OneHotEncoder\n",
    "from sklearn.preprocessing import OrdinalEncoder\n",
    "from sklearn.ensemble import RandomForestRegressor\n",
    "from xgboost import XGBRegressor\n",
    "from sklearn.metrics import mean_squared_error\n",
    "\n",
    "# Preprocessing for numerical data\n",
    "numerical_transformer = SimpleImputer(strategy='median')\n",
    "\n",
    "# Preprocessing for ordinal data\n",
    "ordinal_transformer = Pipeline(steps=[\n",
    "    ('imputer', SimpleImputer(strategy='constant')),\n",
    "    ('onehot', OrdinalEncoder())\n",
    "])\n",
    "\n",
    "# Preprocessing for nominal data\n",
    "nominal_transformer = Pipeline(steps=[\n",
    "    ('imputer', SimpleImputer(strategy='constant')),\n",
    "    ('onehot', OneHotEncoder(handle_unknown='ignore'))\n",
    "])\n",
    "\n",
    "# Bundle preprocessing for numerical and categorical data\n",
    "preprocessor = ColumnTransformer(\n",
    "    transformers=[\n",
    "        ('num', numerical_transformer, numerical_cols),\n",
    "        ('ord', ordinal_transformer, ordinal_cols),\n",
    "        ('nom', nominal_transformer, nominal_cols)\n",
    "    ])\n",
    "\n",
    "# Define the model. Played around a bit with the best fit parameters\n",
    "model = XGBRegressor(colsample_bytree=0.5, \n",
    "                     max_depth=5, \n",
    "                     min_child_weight=3, \n",
    "                     subsample=0.7, \n",
    "                     n_estimators=1000, \n",
    "                     learning_rate=0.05, \n",
    "                     n_jobs=-1,\n",
    "                     tree_method='gpu_hist')\n",
    "\n",
    "# Auxiliar steps. Fit the preprocessor to X_train and transform X_valid in order\n",
    "# to be able to pass it as a paremeter to the fit step of the pipeline\n",
    "preprocessor.fit(X_train)\n",
    "X_valid_trans = preprocessor.transform(X_valid)\n",
    "\n",
    "# Bundle preprocessing and modeling code in a pipeline\n",
    "full_pl = Pipeline(steps=[('preprocessor', preprocessor),\n",
    "                      ('model', model)\n",
    "                     ])\n",
    "\n",
    "# Preprocessing of training data, fit model \n",
    "full_pl.fit(X_train, y_train, model__early_stopping_rounds=10,\n",
    "                              model__eval_set=[(X_valid_trans, y_valid)],\n",
    "                              model__verbose=False)\n",
    "\n",
    "# Preprocessing of validation data, get predictions\n",
    "preds = full_pl.predict(X_valid)\n",
    "\n",
    "print('RMSE:', mean_squared_error(y_valid, preds, squared=False))"
   ]
  },
  {
   "cell_type": "markdown",
   "id": "be4d9ad8",
   "metadata": {
    "papermill": {
     "duration": 0.022183,
     "end_time": "2021-08-25T05:02:29.946259",
     "exception": false,
     "start_time": "2021-08-25T05:02:29.924076",
     "status": "completed"
    },
    "tags": []
   },
   "source": [
    "# Submission generation "
   ]
  },
  {
   "cell_type": "code",
   "execution_count": 19,
   "id": "f63cbfd9",
   "metadata": {
    "execution": {
     "iopub.execute_input": "2021-08-25T05:02:30.004160Z",
     "iopub.status.busy": "2021-08-25T05:02:30.003020Z",
     "iopub.status.idle": "2021-08-25T05:02:33.594123Z",
     "shell.execute_reply": "2021-08-25T05:02:33.593446Z",
     "shell.execute_reply.started": "2021-08-25T05:00:58.518358Z"
    },
    "papermill": {
     "duration": 3.6258,
     "end_time": "2021-08-25T05:02:33.594288",
     "exception": false,
     "start_time": "2021-08-25T05:02:29.968488",
     "status": "completed"
    },
    "tags": []
   },
   "outputs": [],
   "source": [
    "preds_test = full_pl.predict(X_test) \n",
    "\n",
    "# Save test predictions to file\n",
    "output = pd.DataFrame({'Id': raw_test.id,\n",
    "                       'target': preds_test})\n",
    "output.to_csv('submission.csv', index=False)"
   ]
  },
  {
   "cell_type": "markdown",
   "id": "e1e4cfbe",
   "metadata": {
    "papermill": {
     "duration": 0.021953,
     "end_time": "2021-08-25T05:02:33.638731",
     "exception": false,
     "start_time": "2021-08-25T05:02:33.616778",
     "status": "completed"
    },
    "tags": []
   },
   "source": [
    "\n",
    "\n",
    "for col in categorical_cols:\n",
    "    ax = sns.violinplot(x=df[col], y=df['target'], inner='quartile', color='white')\n",
    "    ax.set_xlabel(col)\n",
    "    ax.set_ylabel('target')\n",
    "    plt.show()\n",
    "\n",
    "## Plot results"
   ]
  },
  {
   "cell_type": "code",
   "execution_count": 20,
   "id": "312e86ca",
   "metadata": {
    "execution": {
     "iopub.execute_input": "2021-08-25T05:02:33.687142Z",
     "iopub.status.busy": "2021-08-25T05:02:33.686585Z",
     "iopub.status.idle": "2021-08-25T05:02:33.690700Z",
     "shell.execute_reply": "2021-08-25T05:02:33.690260Z",
     "shell.execute_reply.started": "2021-08-24T22:50:50.737456Z"
    },
    "papermill": {
     "duration": 0.029675,
     "end_time": "2021-08-25T05:02:33.690824",
     "exception": false,
     "start_time": "2021-08-25T05:02:33.661149",
     "status": "completed"
    },
    "tags": []
   },
   "outputs": [],
   "source": [
    "#results=pd.DataFrame()\n",
    "#results['columns']= pd.get_dummies(X_valid).columns\n",
    "#results['importances'] = model.feature_importances_\n",
    "#results.sort_values(by='importances',ascending=False,inplace=True)\n",
    "#results.to_csv('feature_importances.csv', index=False)"
   ]
  },
  {
   "cell_type": "code",
   "execution_count": 21,
   "id": "4ed3dfb3",
   "metadata": {
    "execution": {
     "iopub.execute_input": "2021-08-25T05:02:33.742838Z",
     "iopub.status.busy": "2021-08-25T05:02:33.741232Z",
     "iopub.status.idle": "2021-08-25T05:02:33.743694Z",
     "shell.execute_reply": "2021-08-25T05:02:33.744089Z",
     "shell.execute_reply.started": "2021-08-24T22:50:52.791957Z"
    },
    "papermill": {
     "duration": 0.030449,
     "end_time": "2021-08-25T05:02:33.744243",
     "exception": false,
     "start_time": "2021-08-25T05:02:33.713794",
     "status": "completed"
    },
    "tags": []
   },
   "outputs": [],
   "source": [
    "#import numpy as np"
   ]
  },
  {
   "cell_type": "code",
   "execution_count": 22,
   "id": "d64c7831",
   "metadata": {
    "execution": {
     "iopub.execute_input": "2021-08-25T05:02:33.792448Z",
     "iopub.status.busy": "2021-08-25T05:02:33.791885Z",
     "iopub.status.idle": "2021-08-25T05:02:33.795911Z",
     "shell.execute_reply": "2021-08-25T05:02:33.795487Z",
     "shell.execute_reply.started": "2021-08-24T22:51:26.992399Z"
    },
    "papermill": {
     "duration": 0.029555,
     "end_time": "2021-08-25T05:02:33.796051",
     "exception": false,
     "start_time": "2021-08-25T05:02:33.766496",
     "status": "completed"
    },
    "tags": []
   },
   "outputs": [],
   "source": [
    "#Plot Real vs Predict\n",
    "#for col in numerical_cols:\n",
    "    #plt.scatter(np.log(X_valid[col]**4), np.log(y_valid**2), color='blue', label='Real', alpha=0.5)\n",
    "    #plt.scatter(np.log(X_valid[col]**4), np.log(preds**2), color='red', label='Predict', alpha=0.5)\n",
    "    #plt.title(col)\n",
    "    #plt.legend(loc='best')\n",
    "    #plt.show()"
   ]
  }
 ],
 "metadata": {
  "kernelspec": {
   "display_name": "Python 3",
   "language": "python",
   "name": "python3"
  },
  "language_info": {
   "codemirror_mode": {
    "name": "ipython",
    "version": 3
   },
   "file_extension": ".py",
   "mimetype": "text/x-python",
   "name": "python",
   "nbconvert_exporter": "python",
   "pygments_lexer": "ipython3",
   "version": "3.7.10"
  },
  "papermill": {
   "default_parameters": {},
   "duration": 30.661065,
   "end_time": "2021-08-25T05:02:35.155571",
   "environment_variables": {},
   "exception": null,
   "input_path": "__notebook__.ipynb",
   "output_path": "__notebook__.ipynb",
   "parameters": {},
   "start_time": "2021-08-25T05:02:04.494506",
   "version": "2.3.3"
  }
 },
 "nbformat": 4,
 "nbformat_minor": 5
}
